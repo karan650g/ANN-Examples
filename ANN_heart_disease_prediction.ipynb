{
 "cells": [
  {
   "cell_type": "markdown",
   "metadata": {},
   "source": [
    "# The Goal is to find out whether a person has heart disease or not"
   ]
  },
  {
   "cell_type": "code",
   "execution_count": 1,
   "metadata": {},
   "outputs": [
    {
     "name": "stderr",
     "output_type": "stream",
     "text": [
      "Using TensorFlow backend.\n"
     ]
    }
   ],
   "source": [
    "import tensorflow as tf\n",
    "import pandas as pd\n",
    "import numpy as np\n",
    "import matplotlib.pyplot as plt\n",
    "import keras"
   ]
  },
  {
   "cell_type": "code",
   "execution_count": 2,
   "metadata": {},
   "outputs": [],
   "source": [
    "data = pd.read_csv('heart.csv')"
   ]
  },
  {
   "cell_type": "code",
   "execution_count": 3,
   "metadata": {},
   "outputs": [
    {
     "name": "stdout",
     "output_type": "stream",
     "text": [
      "303\n",
      "(303, 14)\n"
     ]
    },
    {
     "data": {
      "text/html": [
       "<div>\n",
       "<style scoped>\n",
       "    .dataframe tbody tr th:only-of-type {\n",
       "        vertical-align: middle;\n",
       "    }\n",
       "\n",
       "    .dataframe tbody tr th {\n",
       "        vertical-align: top;\n",
       "    }\n",
       "\n",
       "    .dataframe thead th {\n",
       "        text-align: right;\n",
       "    }\n",
       "</style>\n",
       "<table border=\"1\" class=\"dataframe\">\n",
       "  <thead>\n",
       "    <tr style=\"text-align: right;\">\n",
       "      <th></th>\n",
       "      <th>age</th>\n",
       "      <th>sex</th>\n",
       "      <th>cp</th>\n",
       "      <th>trestbps</th>\n",
       "      <th>chol</th>\n",
       "      <th>fbs</th>\n",
       "      <th>restecg</th>\n",
       "      <th>thalach</th>\n",
       "      <th>exang</th>\n",
       "      <th>oldpeak</th>\n",
       "      <th>slope</th>\n",
       "      <th>ca</th>\n",
       "      <th>thal</th>\n",
       "      <th>target</th>\n",
       "    </tr>\n",
       "  </thead>\n",
       "  <tbody>\n",
       "    <tr>\n",
       "      <th>0</th>\n",
       "      <td>63</td>\n",
       "      <td>1</td>\n",
       "      <td>3</td>\n",
       "      <td>145</td>\n",
       "      <td>233</td>\n",
       "      <td>1</td>\n",
       "      <td>0</td>\n",
       "      <td>150</td>\n",
       "      <td>0</td>\n",
       "      <td>2.3</td>\n",
       "      <td>0</td>\n",
       "      <td>0</td>\n",
       "      <td>1</td>\n",
       "      <td>1</td>\n",
       "    </tr>\n",
       "    <tr>\n",
       "      <th>1</th>\n",
       "      <td>37</td>\n",
       "      <td>1</td>\n",
       "      <td>2</td>\n",
       "      <td>130</td>\n",
       "      <td>250</td>\n",
       "      <td>0</td>\n",
       "      <td>1</td>\n",
       "      <td>187</td>\n",
       "      <td>0</td>\n",
       "      <td>3.5</td>\n",
       "      <td>0</td>\n",
       "      <td>0</td>\n",
       "      <td>2</td>\n",
       "      <td>1</td>\n",
       "    </tr>\n",
       "    <tr>\n",
       "      <th>2</th>\n",
       "      <td>41</td>\n",
       "      <td>0</td>\n",
       "      <td>1</td>\n",
       "      <td>130</td>\n",
       "      <td>204</td>\n",
       "      <td>0</td>\n",
       "      <td>0</td>\n",
       "      <td>172</td>\n",
       "      <td>0</td>\n",
       "      <td>1.4</td>\n",
       "      <td>2</td>\n",
       "      <td>0</td>\n",
       "      <td>2</td>\n",
       "      <td>1</td>\n",
       "    </tr>\n",
       "    <tr>\n",
       "      <th>3</th>\n",
       "      <td>56</td>\n",
       "      <td>1</td>\n",
       "      <td>1</td>\n",
       "      <td>120</td>\n",
       "      <td>236</td>\n",
       "      <td>0</td>\n",
       "      <td>1</td>\n",
       "      <td>178</td>\n",
       "      <td>0</td>\n",
       "      <td>0.8</td>\n",
       "      <td>2</td>\n",
       "      <td>0</td>\n",
       "      <td>2</td>\n",
       "      <td>1</td>\n",
       "    </tr>\n",
       "    <tr>\n",
       "      <th>4</th>\n",
       "      <td>57</td>\n",
       "      <td>0</td>\n",
       "      <td>0</td>\n",
       "      <td>120</td>\n",
       "      <td>354</td>\n",
       "      <td>0</td>\n",
       "      <td>1</td>\n",
       "      <td>163</td>\n",
       "      <td>1</td>\n",
       "      <td>0.6</td>\n",
       "      <td>2</td>\n",
       "      <td>0</td>\n",
       "      <td>2</td>\n",
       "      <td>1</td>\n",
       "    </tr>\n",
       "  </tbody>\n",
       "</table>\n",
       "</div>"
      ],
      "text/plain": [
       "   age  sex  cp  trestbps  chol  fbs  restecg  thalach  exang  oldpeak  slope  \\\n",
       "0   63    1   3       145   233    1        0      150      0      2.3      0   \n",
       "1   37    1   2       130   250    0        1      187      0      3.5      0   \n",
       "2   41    0   1       130   204    0        0      172      0      1.4      2   \n",
       "3   56    1   1       120   236    0        1      178      0      0.8      2   \n",
       "4   57    0   0       120   354    0        1      163      1      0.6      2   \n",
       "\n",
       "   ca  thal  target  \n",
       "0   0     1       1  \n",
       "1   0     2       1  \n",
       "2   0     2       1  \n",
       "3   0     2       1  \n",
       "4   0     2       1  "
      ]
     },
     "execution_count": 3,
     "metadata": {},
     "output_type": "execute_result"
    }
   ],
   "source": [
    "print(len(data))\n",
    "print(data.shape)\n",
    "data.head()"
   ]
  },
  {
   "cell_type": "code",
   "execution_count": 4,
   "metadata": {},
   "outputs": [
    {
     "data": {
      "text/plain": [
       "age         False\n",
       "sex         False\n",
       "cp          False\n",
       "trestbps    False\n",
       "chol        False\n",
       "fbs         False\n",
       "restecg     False\n",
       "thalach     False\n",
       "exang       False\n",
       "oldpeak     False\n",
       "slope       False\n",
       "ca          False\n",
       "thal        False\n",
       "target      False\n",
       "dtype: bool"
      ]
     },
     "execution_count": 4,
     "metadata": {},
     "output_type": "execute_result"
    }
   ],
   "source": [
    "data.isnull().any()"
   ]
  },
  {
   "cell_type": "code",
   "execution_count": 5,
   "metadata": {},
   "outputs": [],
   "source": [
    "X = data.iloc[:,:13].values\n",
    "y = data[\"target\"].values"
   ]
  },
  {
   "cell_type": "code",
   "execution_count": 6,
   "metadata": {},
   "outputs": [],
   "source": [
    "from sklearn.model_selection import train_test_split\n",
    "X_train,X_test,y_train, y_test = train_test_split(X,y,test_size = 0.3 , random_state = 0 )"
   ]
  },
  {
   "cell_type": "code",
   "execution_count": 7,
   "metadata": {},
   "outputs": [],
   "source": [
    "from sklearn.preprocessing import StandardScaler\n",
    "sc = StandardScaler()\n",
    "X_train = sc.fit_transform(X_train)\n",
    "X_test = sc.transform(X_test)"
   ]
  },
  {
   "cell_type": "code",
   "execution_count": 8,
   "metadata": {},
   "outputs": [],
   "source": [
    "import keras\n",
    "from keras.models import Sequential\n",
    "from keras.layers import Dense"
   ]
  },
  {
   "cell_type": "code",
   "execution_count": 79,
   "metadata": {},
   "outputs": [],
   "source": [
    "classifier = Sequential()\n",
    "classifier.add(Dense(activation=\"relu\", input_dim=13, units=8, kernel_initializer=\"uniform\"))"
   ]
  },
  {
   "cell_type": "code",
   "execution_count": 88,
   "metadata": {},
   "outputs": [],
   "source": [
    "classifier.add(Dense(activation=\"relu\", units=14, kernel_initializer=\"uniform\"))"
   ]
  },
  {
   "cell_type": "code",
   "execution_count": 89,
   "metadata": {},
   "outputs": [],
   "source": [
    "classifier.add(Dense(activation=\"sigmoid\", units=1, kernel_initializer=\"uniform\"))"
   ]
  },
  {
   "cell_type": "code",
   "execution_count": 90,
   "metadata": {},
   "outputs": [],
   "source": [
    "classifier.compile(optimizer = 'adam' , loss = 'binary_crossentropy',metrics = ['accuracy'] )"
   ]
  },
  {
   "cell_type": "markdown",
   "metadata": {},
   "source": [
    "# We will use a batch size of 8 with 100 epochs"
   ]
  },
  {
   "cell_type": "code",
   "execution_count": 91,
   "metadata": {},
   "outputs": [
    {
     "name": "stdout",
     "output_type": "stream",
     "text": [
      "Epoch 1/100\n",
      "212/212 [==============================] - 0s 802us/step - loss: 0.6928 - accuracy: 0.5377\n",
      "Epoch 2/100\n",
      "212/212 [==============================] - 0s 204us/step - loss: 0.6911 - accuracy: 0.5566\n",
      "Epoch 3/100\n",
      "212/212 [==============================] - 0s 222us/step - loss: 0.6887 - accuracy: 0.5566\n",
      "Epoch 4/100\n",
      "212/212 [==============================] - 0s 212us/step - loss: 0.6854 - accuracy: 0.5566\n",
      "Epoch 5/100\n",
      "212/212 [==============================] - 0s 212us/step - loss: 0.6806 - accuracy: 0.5566\n",
      "Epoch 6/100\n",
      "212/212 [==============================] - 0s 204us/step - loss: 0.6747 - accuracy: 0.5566\n",
      "Epoch 7/100\n",
      "212/212 [==============================] - 0s 198us/step - loss: 0.6679 - accuracy: 0.5566\n",
      "Epoch 8/100\n",
      "212/212 [==============================] - 0s 199us/step - loss: 0.6609 - accuracy: 0.5566\n",
      "Epoch 9/100\n",
      "212/212 [==============================] - 0s 202us/step - loss: 0.6523 - accuracy: 0.5566\n",
      "Epoch 10/100\n",
      "212/212 [==============================] - 0s 231us/step - loss: 0.6438 - accuracy: 0.5566\n",
      "Epoch 11/100\n",
      "212/212 [==============================] - 0s 198us/step - loss: 0.6346 - accuracy: 0.5566\n",
      "Epoch 12/100\n",
      "212/212 [==============================] - 0s 182us/step - loss: 0.6254 - accuracy: 0.5566\n",
      "Epoch 13/100\n",
      "212/212 [==============================] - 0s 203us/step - loss: 0.6160 - accuracy: 0.5566\n",
      "Epoch 14/100\n",
      "212/212 [==============================] - 0s 189us/step - loss: 0.6057 - accuracy: 0.5566\n",
      "Epoch 15/100\n",
      "212/212 [==============================] - 0s 160us/step - loss: 0.5959 - accuracy: 0.5566\n",
      "Epoch 16/100\n",
      "212/212 [==============================] - 0s 185us/step - loss: 0.5852 - accuracy: 0.5566\n",
      "Epoch 17/100\n",
      "212/212 [==============================] - 0s 170us/step - loss: 0.5750 - accuracy: 0.5566\n",
      "Epoch 18/100\n",
      "212/212 [==============================] - 0s 198us/step - loss: 0.5637 - accuracy: 0.5566\n",
      "Epoch 19/100\n",
      "212/212 [==============================] - 0s 184us/step - loss: 0.5526 - accuracy: 0.5566\n",
      "Epoch 20/100\n",
      "212/212 [==============================] - 0s 173us/step - loss: 0.5416 - accuracy: 0.6840\n",
      "Epoch 21/100\n",
      "212/212 [==============================] - 0s 179us/step - loss: 0.5314 - accuracy: 0.8443\n",
      "Epoch 22/100\n",
      "212/212 [==============================] - 0s 165us/step - loss: 0.5209 - accuracy: 0.8632\n",
      "Epoch 23/100\n",
      "212/212 [==============================] - 0s 176us/step - loss: 0.5114 - accuracy: 0.8679\n",
      "Epoch 24/100\n",
      "212/212 [==============================] - 0s 184us/step - loss: 0.5022 - accuracy: 0.8774\n",
      "Epoch 25/100\n",
      "212/212 [==============================] - 0s 175us/step - loss: 0.4934 - accuracy: 0.9009\n",
      "Epoch 26/100\n",
      "212/212 [==============================] - 0s 188us/step - loss: 0.4853 - accuracy: 0.8915\n",
      "Epoch 27/100\n",
      "212/212 [==============================] - 0s 179us/step - loss: 0.4772 - accuracy: 0.9009\n",
      "Epoch 28/100\n",
      "212/212 [==============================] - 0s 189us/step - loss: 0.4693 - accuracy: 0.9057\n",
      "Epoch 29/100\n",
      "212/212 [==============================] - 0s 183us/step - loss: 0.4630 - accuracy: 0.9057\n",
      "Epoch 30/100\n",
      "212/212 [==============================] - 0s 184us/step - loss: 0.4557 - accuracy: 0.9104\n",
      "Epoch 31/100\n",
      "212/212 [==============================] - 0s 181us/step - loss: 0.4492 - accuracy: 0.9151\n",
      "Epoch 32/100\n",
      "212/212 [==============================] - 0s 183us/step - loss: 0.4431 - accuracy: 0.9198\n",
      "Epoch 33/100\n",
      "212/212 [==============================] - 0s 169us/step - loss: 0.4375 - accuracy: 0.9198\n",
      "Epoch 34/100\n",
      "212/212 [==============================] - 0s 182us/step - loss: 0.4317 - accuracy: 0.9198\n",
      "Epoch 35/100\n",
      "212/212 [==============================] - 0s 189us/step - loss: 0.4274 - accuracy: 0.9245\n",
      "Epoch 36/100\n",
      "212/212 [==============================] - 0s 197us/step - loss: 0.4221 - accuracy: 0.9245\n",
      "Epoch 37/100\n",
      "212/212 [==============================] - 0s 165us/step - loss: 0.4172 - accuracy: 0.9198\n",
      "Epoch 38/100\n",
      "212/212 [==============================] - 0s 178us/step - loss: 0.4122 - accuracy: 0.9245\n",
      "Epoch 39/100\n",
      "212/212 [==============================] - 0s 184us/step - loss: 0.4079 - accuracy: 0.9292\n",
      "Epoch 40/100\n",
      "212/212 [==============================] - 0s 174us/step - loss: 0.4038 - accuracy: 0.9292\n",
      "Epoch 41/100\n",
      "212/212 [==============================] - 0s 187us/step - loss: 0.3997 - accuracy: 0.9245\n",
      "Epoch 42/100\n",
      "212/212 [==============================] - 0s 174us/step - loss: 0.3955 - accuracy: 0.9292\n",
      "Epoch 43/100\n",
      "212/212 [==============================] - 0s 179us/step - loss: 0.3921 - accuracy: 0.9292\n",
      "Epoch 44/100\n",
      "212/212 [==============================] - 0s 184us/step - loss: 0.3882 - accuracy: 0.9292\n",
      "Epoch 45/100\n",
      "212/212 [==============================] - 0s 186us/step - loss: 0.3844 - accuracy: 0.9292\n",
      "Epoch 46/100\n",
      "212/212 [==============================] - 0s 167us/step - loss: 0.3815 - accuracy: 0.9292\n",
      "Epoch 47/100\n",
      "212/212 [==============================] - 0s 170us/step - loss: 0.3773 - accuracy: 0.9292\n",
      "Epoch 48/100\n",
      "212/212 [==============================] - 0s 170us/step - loss: 0.3740 - accuracy: 0.9292\n",
      "Epoch 49/100\n",
      "212/212 [==============================] - 0s 161us/step - loss: 0.3686 - accuracy: 0.9292\n",
      "Epoch 50/100\n",
      "212/212 [==============================] - 0s 162us/step - loss: 0.3653 - accuracy: 0.9292\n",
      "Epoch 51/100\n",
      "212/212 [==============================] - 0s 186us/step - loss: 0.3645 - accuracy: 0.9292\n",
      "Epoch 52/100\n",
      "212/212 [==============================] - 0s 183us/step - loss: 0.3610 - accuracy: 0.9151\n",
      "Epoch 53/100\n",
      "212/212 [==============================] - 0s 179us/step - loss: 0.3542 - accuracy: 0.9292\n",
      "Epoch 54/100\n",
      "212/212 [==============================] - 0s 180us/step - loss: 0.3477 - accuracy: 0.9387\n",
      "Epoch 55/100\n",
      "212/212 [==============================] - 0s 179us/step - loss: 0.3438 - accuracy: 0.9292\n",
      "Epoch 56/100\n",
      "212/212 [==============================] - 0s 170us/step - loss: 0.3399 - accuracy: 0.9292\n",
      "Epoch 57/100\n",
      "212/212 [==============================] - 0s 184us/step - loss: 0.3372 - accuracy: 0.9387\n",
      "Epoch 58/100\n",
      "212/212 [==============================] - 0s 174us/step - loss: 0.3335 - accuracy: 0.9434\n",
      "Epoch 59/100\n",
      "212/212 [==============================] - 0s 170us/step - loss: 0.3315 - accuracy: 0.9340\n",
      "Epoch 60/100\n",
      "212/212 [==============================] - 0s 156us/step - loss: 0.3281 - accuracy: 0.9387\n",
      "Epoch 61/100\n",
      "212/212 [==============================] - 0s 179us/step - loss: 0.3265 - accuracy: 0.9434\n",
      "Epoch 62/100\n",
      "212/212 [==============================] - 0s 170us/step - loss: 0.3246 - accuracy: 0.9387\n",
      "Epoch 63/100\n",
      "212/212 [==============================] - 0s 184us/step - loss: 0.3197 - accuracy: 0.9387\n",
      "Epoch 64/100\n",
      "212/212 [==============================] - 0s 160us/step - loss: 0.3174 - accuracy: 0.9434\n",
      "Epoch 65/100\n",
      "212/212 [==============================] - 0s 166us/step - loss: 0.3145 - accuracy: 0.9434\n",
      "Epoch 66/100\n",
      "212/212 [==============================] - 0s 175us/step - loss: 0.3150 - accuracy: 0.9434\n",
      "Epoch 67/100\n",
      "212/212 [==============================] - 0s 167us/step - loss: 0.3097 - accuracy: 0.9387\n",
      "Epoch 68/100\n",
      "212/212 [==============================] - 0s 175us/step - loss: 0.3090 - accuracy: 0.9434\n",
      "Epoch 69/100\n",
      "212/212 [==============================] - 0s 175us/step - loss: 0.3076 - accuracy: 0.9387\n",
      "Epoch 70/100\n",
      "212/212 [==============================] - 0s 174us/step - loss: 0.3035 - accuracy: 0.9434\n",
      "Epoch 71/100\n",
      "212/212 [==============================] - 0s 193us/step - loss: 0.3009 - accuracy: 0.9434\n",
      "Epoch 72/100\n",
      "212/212 [==============================] - 0s 170us/step - loss: 0.3000 - accuracy: 0.9387\n",
      "Epoch 73/100\n",
      "212/212 [==============================] - 0s 179us/step - loss: 0.2983 - accuracy: 0.9434\n",
      "Epoch 74/100\n",
      "212/212 [==============================] - 0s 179us/step - loss: 0.2951 - accuracy: 0.9434\n",
      "Epoch 75/100\n",
      "212/212 [==============================] - 0s 170us/step - loss: 0.2930 - accuracy: 0.9434\n",
      "Epoch 76/100\n",
      "212/212 [==============================] - 0s 175us/step - loss: 0.2914 - accuracy: 0.9434\n",
      "Epoch 77/100\n",
      "212/212 [==============================] - 0s 170us/step - loss: 0.2906 - accuracy: 0.9387\n",
      "Epoch 78/100\n",
      "212/212 [==============================] - 0s 170us/step - loss: 0.2877 - accuracy: 0.9434\n",
      "Epoch 79/100\n"
     ]
    },
    {
     "name": "stdout",
     "output_type": "stream",
     "text": [
      "212/212 [==============================] - 0s 160us/step - loss: 0.2867 - accuracy: 0.9434\n",
      "Epoch 80/100\n",
      "212/212 [==============================] - 0s 179us/step - loss: 0.2840 - accuracy: 0.9434\n",
      "Epoch 81/100\n",
      "212/212 [==============================] - 0s 189us/step - loss: 0.2819 - accuracy: 0.9434\n",
      "Epoch 82/100\n",
      "212/212 [==============================] - 0s 167us/step - loss: 0.2796 - accuracy: 0.9434\n",
      "Epoch 83/100\n",
      "212/212 [==============================] - 0s 171us/step - loss: 0.2791 - accuracy: 0.9434\n",
      "Epoch 84/100\n",
      "212/212 [==============================] - 0s 173us/step - loss: 0.2773 - accuracy: 0.9434\n",
      "Epoch 85/100\n",
      "212/212 [==============================] - 0s 172us/step - loss: 0.2753 - accuracy: 0.9434\n",
      "Epoch 86/100\n",
      "212/212 [==============================] - 0s 174us/step - loss: 0.2737 - accuracy: 0.9434\n",
      "Epoch 87/100\n",
      "212/212 [==============================] - 0s 169us/step - loss: 0.2706 - accuracy: 0.9434\n",
      "Epoch 88/100\n",
      "212/212 [==============================] - 0s 170us/step - loss: 0.2694 - accuracy: 0.9434\n",
      "Epoch 89/100\n",
      "212/212 [==============================] - 0s 179us/step - loss: 0.2690 - accuracy: 0.9434\n",
      "Epoch 90/100\n",
      "212/212 [==============================] - 0s 172us/step - loss: 0.2687 - accuracy: 0.9434\n",
      "Epoch 91/100\n",
      "212/212 [==============================] - 0s 179us/step - loss: 0.2656 - accuracy: 0.9434\n",
      "Epoch 92/100\n",
      "212/212 [==============================] - 0s 193us/step - loss: 0.2637 - accuracy: 0.9434\n",
      "Epoch 93/100\n",
      "212/212 [==============================] - 0s 170us/step - loss: 0.2632 - accuracy: 0.9481\n",
      "Epoch 94/100\n",
      "212/212 [==============================] - 0s 189us/step - loss: 0.2617 - accuracy: 0.9434\n",
      "Epoch 95/100\n",
      "212/212 [==============================] - 0s 165us/step - loss: 0.2598 - accuracy: 0.9434\n",
      "Epoch 96/100\n",
      "212/212 [==============================] - 0s 169us/step - loss: 0.2587 - accuracy: 0.9434\n",
      "Epoch 97/100\n",
      "212/212 [==============================] - 0s 165us/step - loss: 0.2583 - accuracy: 0.9434\n",
      "Epoch 98/100\n",
      "212/212 [==============================] - 0s 188us/step - loss: 0.2564 - accuracy: 0.9434\n",
      "Epoch 99/100\n",
      "212/212 [==============================] - 0s 184us/step - loss: 0.2552 - accuracy: 0.9481\n",
      "Epoch 100/100\n",
      "212/212 [==============================] - 0s 179us/step - loss: 0.2531 - accuracy: 0.9481\n"
     ]
    },
    {
     "data": {
      "text/plain": [
       "<keras.callbacks.callbacks.History at 0x2973cf4eb08>"
      ]
     },
     "execution_count": 91,
     "metadata": {},
     "output_type": "execute_result"
    }
   ],
   "source": [
    "classifier.fit(X_train , y_train , batch_size = 8 ,epochs = 100  )"
   ]
  },
  {
   "cell_type": "code",
   "execution_count": 92,
   "metadata": {},
   "outputs": [],
   "source": [
    "y_pred = classifier.predict(X_test)\n",
    "y_pred = (y_pred > 0.5)"
   ]
  },
  {
   "cell_type": "code",
   "execution_count": 93,
   "metadata": {},
   "outputs": [],
   "source": [
    "from sklearn.metrics import confusion_matrix\n",
    "cm = confusion_matrix(y_test,y_pred)"
   ]
  },
  {
   "cell_type": "code",
   "execution_count": 94,
   "metadata": {},
   "outputs": [],
   "source": [
    "accuracy = (cm[0][0]+cm[1][1])/(cm[0][1] + cm[1][0] +cm[0][0] +cm[1][1])"
   ]
  },
  {
   "cell_type": "code",
   "execution_count": 95,
   "metadata": {},
   "outputs": [
    {
     "data": {
      "text/plain": [
       "84.61538461538461"
      ]
     },
     "execution_count": 95,
     "metadata": {},
     "output_type": "execute_result"
    }
   ],
   "source": [
    "accuracy*100"
   ]
  },
  {
   "cell_type": "markdown",
   "metadata": {},
   "source": [
    "# We got approximately 85% accuracy\n"
   ]
  },
  {
   "cell_type": "code",
   "execution_count": null,
   "metadata": {},
   "outputs": [],
   "source": []
  }
 ],
 "metadata": {
  "kernelspec": {
   "display_name": "Python 3",
   "language": "python",
   "name": "python3"
  },
  "language_info": {
   "codemirror_mode": {
    "name": "ipython",
    "version": 3
   },
   "file_extension": ".py",
   "mimetype": "text/x-python",
   "name": "python",
   "nbconvert_exporter": "python",
   "pygments_lexer": "ipython3",
   "version": "3.7.6"
  }
 },
 "nbformat": 4,
 "nbformat_minor": 4
}
